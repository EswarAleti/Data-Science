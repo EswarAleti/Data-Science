{
 "cells": [
  {
   "cell_type": "code",
   "execution_count": 11,
   "metadata": {},
   "outputs": [
    {
     "name": "stdout",
     "output_type": "stream",
     "text": [
      "9     50.0\n",
      "13    50.0\n",
      "32    50.0\n",
      "44    50.0\n",
      "60    50.0\n",
      "62    50.0\n",
      "dtype: float64\n",
      "Series([], dtype: float64)\n"
     ]
    }
   ],
   "source": [
    "import pandas as pd\n",
    "\n",
    "#reading csv\n",
    "missDF = pd.read_csv('CS19M001 Aleti Eswararao - missing_data.csv')\n",
    "#finding missing values percentage of rows,cols\n",
    "colMiss = round(missDF.isna().sum()*100/missDF.shape[0],2)\n",
    "rowMiss = round(missDF.isna().sum(axis=1)*100/(missDF.shape[1]-1),2)\n",
    "#rows that are having missing values more than 50%\n",
    "print(rowMiss[rowMiss>=50])\n",
    "#columns that are having missing values more than 20%\n",
    "print(colMiss[colMiss>=50])"
   ]
  },
  {
   "cell_type": "code",
   "execution_count": 14,
   "metadata": {},
   "outputs": [
    {
     "name": "stdout",
     "output_type": "stream",
     "text": [
      "       ID       V1       V2        V3        V4   V5   V6        V7    V8  \\\n",
      "0   201.0  3.30000  0.90000  8.600000  4.000000  2.1  1.8  6.300000  41.0   \n",
      "1   202.0  0.00000  0.40000  8.062264  2.500000  1.2  1.7  5.200000  35.0   \n",
      "2   203.0  3.00000  1.94386  9.100000  7.100000  3.5  3.4  6.822951  55.0   \n",
      "3   204.0  0.00000  1.50000  8.062264  4.800000  1.9  2.5  7.200000  36.0   \n",
      "4   205.0  5.10000  1.40000  8.062264  4.800000  3.3  2.6  3.800000  49.0   \n",
      "..    ...      ...      ...       ...       ...  ...  ...       ...   ...   \n",
      "65  266.0  4.20000  2.40000  9.400000  4.900000  3.2  2.7  8.500000  49.0   \n",
      "66  267.0  3.80000  0.80000  8.062264  5.168254  2.2  2.6  5.300000  42.0   \n",
      "67  268.0  3.30000  2.60000  9.700000  3.300000  2.9  1.5  5.200000  47.0   \n",
      "68  269.0  3.85098  1.90000  8.062264  4.500000  1.5  3.1  9.900000  39.0   \n",
      "69  270.0  4.50000  1.60000  8.700000  4.600000  3.1  2.1  6.800000  56.0   \n",
      "\n",
      "         V9  V10  V11  V12  V13  V14  \n",
      "0   4.50000  0.0  1.0  0.0  0.0  2.0  \n",
      "1   3.30000  0.0  1.0  0.0  0.0  1.0  \n",
      "2   5.20000  0.0  1.0  1.0  0.0  3.0  \n",
      "3   4.75873  1.0  0.0  1.0  0.0  1.0  \n",
      "4   4.90000  0.0  1.0  0.0  0.0  2.0  \n",
      "..      ...  ...  ...  ...  ...  ...  \n",
      "65  5.20000  0.0  1.0  0.0  1.0  2.0  \n",
      "66  5.10000  0.0  1.0  0.0  0.0  2.0  \n",
      "67  4.75873  0.0  1.0  0.0  1.0  3.0  \n",
      "68  3.30000  1.0  0.0  1.0  1.0  1.0  \n",
      "69  5.10000  0.0  1.0  0.0  0.0  3.0  \n",
      "\n",
      "[70 rows x 15 columns]\n"
     ]
    }
   ],
   "source": [
    "import numpy as np\n",
    "from sklearn.impute import SimpleImputer\n",
    "\n",
    "#reading csv\n",
    "missDF = pd.read_csv('CS19M001 Aleti Eswararao - missing_data.csv')\n",
    "\n",
    "imputer = SimpleImputer(missing_values=np.nan, strategy='mean')\n",
    "imputer.fit(missDF)\n",
    "missDF = pd.DataFrame(imputer.transform(missDF),columns = missDF.columns.values)\n",
    "print(missDF)"
   ]
  },
  {
   "cell_type": "code",
   "execution_count": 13,
   "metadata": {},
   "outputs": [
    {
     "name": "stdout",
     "output_type": "stream",
     "text": [
      "      ID        V1        V2        V3        V4        V5        V6  \\\n",
      "0  201.0  3.300000  0.900000  8.600000  4.000000  2.100000  1.800000   \n",
      "1  202.0  0.000000  0.400000  8.455461  2.500000  1.200000  1.700000   \n",
      "2  203.0  3.000000  3.380901  9.100000  7.100000  3.500000  3.400000   \n",
      "3  204.0  0.000000  1.500000  7.105959  4.800000  1.900000  2.500000   \n",
      "4  205.0  5.100000  1.400000  8.142572  4.800000  3.300000  2.600000   \n",
      "5  206.0  4.600000  2.100000  7.900000  5.800000  3.400000  2.800000   \n",
      "6  207.0  1.607755  1.500000  7.140391  4.800000  1.900000  2.500000   \n",
      "7  208.0  5.200000  1.300000  9.700000  6.100000  3.200000  3.900000   \n",
      "8  209.0  3.500000  2.800000  9.900000  3.500000  3.100000  1.700000   \n",
      "9  210.0  4.100000  3.700000  5.900000  6.227628  4.104652  2.955762   \n",
      "\n",
      "         V7        V8        V9  V10  V11  V12  V13  V14  \n",
      "0  6.300000  41.00000  4.500000  0.0  1.0  0.0  0.0  2.0  \n",
      "1  5.200000  35.00000  3.300000  0.0  1.0  0.0  0.0  1.0  \n",
      "2  6.833568  55.00000  5.200000  0.0  1.0  1.0  0.0  3.0  \n",
      "3  7.200000  36.00000  3.713279  1.0  0.0  1.0  0.0  1.0  \n",
      "4  3.800000  49.00000  4.900000  0.0  1.0  0.0  0.0  2.0  \n",
      "5  4.700000  49.00000  5.900000  0.0  1.0  0.0  1.0  3.0  \n",
      "6  7.200000  36.00000  3.972276  1.0  0.0  1.0  0.0  1.0  \n",
      "7  6.700000  54.00000  5.800000  0.0  1.0  0.0  1.0  3.0  \n",
      "8  5.400000  49.00000  5.400000  0.0  1.0  0.0  1.0  3.0  \n",
      "9  7.683682  48.97309  4.878587  1.0  0.0  1.0  0.0  2.0  \n"
     ]
    },
    {
     "name": "stderr",
     "output_type": "stream",
     "text": [
      "C:\\Users\\srini\\Anaconda3\\lib\\site-packages\\sklearn\\impute\\_iterative.py:603: ConvergenceWarning: [IterativeImputer] Early stopping criterion not reached.\n",
      "  \" reached.\", ConvergenceWarning)\n"
     ]
    }
   ],
   "source": [
    "import numpy as np\n",
    "from sklearn.experimental import enable_iterative_imputer\n",
    "from sklearn.impute import IterativeImputer\n",
    "\n",
    "#reading csv\n",
    "missDF = pd.read_csv('CS19M001 Aleti Eswararao - missing_data.csv')\n",
    "\n",
    "imputer = IterativeImputer(max_iter=10, random_state=0)\n",
    "imputer.fit(missDF)\n",
    "missDF = pd.DataFrame(imputer.transform(missDF),columns = missDF.columns.values)\n",
    "print(missDF[:10])"
   ]
  }
 ],
 "metadata": {
  "kernelspec": {
   "display_name": "Python 3",
   "language": "python",
   "name": "python3"
  },
  "language_info": {
   "codemirror_mode": {
    "name": "ipython",
    "version": 3
   },
   "file_extension": ".py",
   "mimetype": "text/x-python",
   "name": "python",
   "nbconvert_exporter": "python",
   "pygments_lexer": "ipython3",
   "version": "3.7.4"
  }
 },
 "nbformat": 4,
 "nbformat_minor": 2
}
